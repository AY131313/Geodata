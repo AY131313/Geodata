{
 "cells": [
  {
   "cell_type": "code",
   "execution_count": 7,
   "metadata": {},
   "outputs": [
    {
     "name": "stdin",
     "output_type": "stream",
     "text": [
      "Enter the number of data points:  5\n",
      "Enter the x-coordinate for data point 1:  10 \n",
      "Enter the y-coordinate for data point 1:  12\n",
      "Enter the x-coordinate for data point 2:  15\n",
      "Enter the y-coordinate for data point 2:  20\n",
      "Enter the x-coordinate for data point 3:  30\n",
      "Enter the y-coordinate for data point 3:  20\n",
      "Enter the x-coordinate for data point 4:  53\n",
      "Enter the y-coordinate for data point 4:  42\n",
      "Enter the x-coordinate for data point 5:  14\n",
      "Enter the y-coordinate for data point 5:  56\n"
     ]
    },
    {
     "data": {
      "image/png": "[encoded data removed]",
      "text/plain": [
       "<Figure size 1080x360 with 3 Axes>"
      ]
     },
     "metadata": {
      "needs_background": "light"
     },
     "output_type": "display_data"
    },
    {
     "name": "stdout",
     "output_type": "stream",
     "text": [
      "Sorted distances based on Euclidean distance:\n",
      "[10.0, 12.0] :  15.620499351813308\n",
      "[15.0, 20.0] :  25.0\n",
      "[30.0, 20.0] :  36.05551275463989\n",
      "[14.0, 56.0] :  57.723478758647246\n",
      "[53.0, 42.0] :  67.62396025078685\n",
      "\n",
      "Sorted distances based on equivalent distance:\n",
      "[10.0, 12.0] :  22.0\n",
      "[15.0, 20.0] :  35.0\n",
      "[30.0, 20.0] :  50.0\n",
      "[14.0, 56.0] :  70.0\n",
      "[53.0, 42.0] :  95.0\n"
     ]
    }
   ],
   "source": [
    "import math\n",
    "import matplotlib.pyplot as plt\n",
    "\n",
    "def euclidean_distance(point1, point2):\n",
    "    return math.sqrt(sum([(a - b) ** 2 for a, b in zip(point1, point2)]))\n",
    "\n",
    "def equivalent_distance(point1, point2):\n",
    "    return sum([abs(a - b) for a, b in zip(point1, point2)])\n",
    "\n",
    "def sort_distances(data):\n",
    "    sorted_euclidean = sorted(data, key=lambda x: euclidean_distance(x, [0, 0]))\n",
    "    sorted_equivalent = sorted(data, key=lambda x: equivalent_distance(x, [0, 0]))\n",
    "\n",
    "    euclidean_distances = [euclidean_distance(point, [0, 0]) for point in sorted_euclidean]\n",
    "    equivalent_distances = [equivalent_distance(point, [0, 0]) for point in sorted_equivalent]\n",
    "\n",
    "    # Plotting the data points and sorted distances\n",
    "    plt.figure(figsize=(15, 5))\n",
    "    \n",
    "    # Plotting the data points\n",
    "    plt.subplot(1, 3, 1)\n",
    "    plt.scatter([point[0] for point in data], [point[1] for point in data])\n",
    "    plt.title('Data Points')\n",
    "    plt.xlabel('X')\n",
    "    plt.ylabel('Y')\n",
    "\n",
    "    # Plotting the sorted distances based on Euclidean distance\n",
    "    plt.subplot(1, 3, 2)\n",
    "    plt.scatter(range(len(sorted_euclidean)), euclidean_distances)\n",
    "    plt.title('Sorted Distances (Euclidean)')\n",
    "    plt.xlabel('Index')\n",
    "    plt.ylabel('Distance')\n",
    "\n",
    "    # Plotting the sorted distances based on equivalent distance\n",
    "    plt.subplot(1, 3, 3)\n",
    "    plt.scatter(range(len(sorted_equivalent)), equivalent_distances)\n",
    "    plt.title('Sorted Distances (Equivalent)')\n",
    "    plt.xlabel('Index')\n",
    "    plt.ylabel('Distance')\n",
    "\n",
    "    # Displaying the figure\n",
    "    plt.tight_layout()\n",
    "    plt.show()\n",
    "\n",
    "    print(\"Sorted distances based on Euclidean distance:\")\n",
    "    for point, distance in zip(sorted_euclidean, euclidean_distances):\n",
    "        print(point, \": \", distance)\n",
    "\n",
    "    print(\"\\nSorted distances based on equivalent distance:\")\n",
    "    for point, distance in zip(sorted_equivalent, equivalent_distances):\n",
    "        print(point, \": \", distance)\n",
    "\n",
    "# Ask the user for data positions\n",
    "data = []\n",
    "n = int(input(\"Enter the number of data points: \"))\n",
    "for i in range(n):\n",
    "    x = float(input(\"Enter the x-coordinate for data point {}: \".format(i+1)))\n",
    "    y = float(input(\"Enter the y-coordinate for data point {}: \".format(i+1)))\n",
    "    data.append([x, y])\n",
    "\n",
    "sort_distances(data)\n"
   ]
  },
  {
   "cell_type": "code",
   "execution_count": null,
   "metadata": {},
   "outputs": [],
   "source": []
  }
 ],
 "metadata": {
  "kernelspec": {
   "display_name": "Python 3 (ipykernel)",
   "language": "python",
   "name": "python3"
  },
  "language_info": {
   "codemirror_mode": {
    "name": "ipython",
    "version": 3
   },
   "file_extension": ".py",
   "mimetype": "text/x-python",
   "name": "python",
   "nbconvert_exporter": "python",
   "pygments_lexer": "ipython3",
   "version": "3.9.18"
  }
 },
 "nbformat": 4,
 "nbformat_minor": 4
}
