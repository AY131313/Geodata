{
 "cells": [
  {
   "cell_type": "code",
   "execution_count": 1,
   "metadata": {},
   "outputs": [
    {
     "name": "stdout",
     "output_type": "stream",
     "text": [
      "Enter the known points (x, y, value). Enter 'done' to finish input.\n"
     ]
    },
    {
     "name": "stdin",
     "output_type": "stream",
     "text": [
      "Enter point (x, y, value):  10 15 20 \n",
      "Enter point (x, y, value):  14 17 50\n",
      "Enter point (x, y, value):  1 6  7\n",
      "Enter point (x, y, value):  done \n"
     ]
    },
    {
     "name": "stdout",
     "output_type": "stream",
     "text": [
      "Invalid input. Please try again.\n"
     ]
    },
    {
     "name": "stdin",
     "output_type": "stream",
     "text": [
      "Enter point (x, y, value):  10 13 16\n",
      "Enter point (x, y, value):  18 75 2\n",
      "Enter point (x, y, value):  12 45 7\n",
      "Enter point (x, y, value):  done\n",
      "Enter the grid cell size:  10\n"
     ]
    },
    {
     "data": {
      "image/png": "[encoded data removed]",
      "text/plain": [
       "<Figure size 576x432 with 2 Axes>"
      ]
     },
     "metadata": {
      "needs_background": "light"
     },
     "output_type": "display_data"
    }
   ],
   "source": [
    "\n",
    "import numpy as np\n",
    "from scipy.interpolate import Rbf\n",
    "import matplotlib.pyplot as plt\n",
    "\n",
    "# Function to input known points interactively\n",
    "def input_known_points():\n",
    "    known_points = []\n",
    "    print(\"Enter the known points (x, y, value). Enter 'done' to finish input.\")\n",
    "    while True:\n",
    "        point_input = input(\"Enter point (x, y, value): \")\n",
    "        if point_input == \"done\":\n",
    "            break\n",
    "        try:\n",
    "            x, y, value = map(float, point_input.split())\n",
    "            known_points.append((x, y, value))\n",
    "        except ValueError:\n",
    "            print(\"Invalid input. Please try again.\")\n",
    "    return known_points\n",
    "\n",
    "# Function to input grid cell size from user\n",
    "def input_grid_cell_size():\n",
    "    while True:\n",
    "        cell_size = input(\"Enter the grid cell size: \")\n",
    "        try:\n",
    "            cell_size = float(cell_size)\n",
    "            if cell_size <= 0:\n",
    "                print(\"Invalid input. Cell size must be a positive number.\")\n",
    "            else:\n",
    "                return cell_size\n",
    "        except ValueError:\n",
    "            print(\"Invalid input. Please enter a number.\")\n",
    "\n",
    "# Input known points interactively\n",
    "known_points = input_known_points()\n",
    "\n",
    "if len(known_points) < 3:\n",
    "    print(\"At least 3 known points are required for interpolation.\")\n",
    "else:\n",
    "    # Extract coordinates and values from known points\n",
    "    x = np.array([point[0] for point in known_points])\n",
    "    y = np.array([point[1] for point in known_points])\n",
    "    values = np.array([point[2] for point in known_points])\n",
    "\n",
    "    # Input grid cell size from user\n",
    "    cell_size = input_grid_cell_size()\n",
    "\n",
    "    # Define the grid for interpolation\n",
    "    grid_x, grid_y = np.meshgrid(\n",
    "        np.arange(x.min(), x.max() + cell_size, cell_size),\n",
    "        np.arange(y.min(), y.max() + cell_size, cell_size)\n",
    "    )\n",
    "    grid_points = np.column_stack((grid_x.flatten(), grid_y.flatten()))\n",
    "\n",
    "    # Perform IDW interpolation using Rbf function\n",
    "    rbf = Rbf(x, y, values, function='linear')\n",
    "    interp_values = rbf(grid_points[:, 0], grid_points[:, 1])\n",
    "\n",
    "    # Reshape interpolated values to match the grid shape\n",
    "    interp_values = interp_values.reshape(grid_x.shape)\n",
    "\n",
    "    # Create the interpolated map with grid\n",
    "    plt.figure(figsize=(8, 6))\n",
    "    plt.contourf(grid_x, grid_y, interp_values, cmap='jet')\n",
    "    plt.colorbar(label='Interpolated Value')\n",
    "    plt.scatter(x, y, c=values, cmap='jet', edgecolors='k')\n",
    "    plt.xlabel('X')\n",
    "    plt.ylabel('Y')\n",
    "    plt.title('IDW Interpolation Map')\n",
    "\n",
    "    # Add grid lines\n",
    "    plt.grid(True)\n",
    "\n",
    "    plt.show()\n"
   ]
  },
  {
   "cell_type": "code",
   "execution_count": null,
   "metadata": {},
   "outputs": [],
   "source": []
  }
 ],
 "metadata": {
  "kernelspec": {
   "display_name": "Python 3",
   "language": "python",
   "name": "python3"
  },
  "language_info": {
   "codemirror_mode": {
    "name": "ipython",
    "version": 3
   },
   "file_extension": ".py",
   "mimetype": "text/x-python",
   "name": "python",
   "nbconvert_exporter": "python",
   "pygments_lexer": "ipython3",
   "version": "3.7.6"
  }
 },
 "nbformat": 4,
 "nbformat_minor": 4
}
